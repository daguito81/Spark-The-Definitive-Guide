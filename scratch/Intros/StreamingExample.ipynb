{
 "cells": [
  {
   "cell_type": "code",
   "execution_count": 14,
   "metadata": {},
   "outputs": [],
   "source": [
    "from pyspark.sql import SparkSession\n",
    "from pyspark.sql import functions as F"
   ]
  },
  {
   "cell_type": "code",
   "execution_count": 10,
   "metadata": {},
   "outputs": [],
   "source": [
    "spark = SparkSession\\\n",
    "    .builder\\\n",
    "    .appName(\"Retail Test\")\\\n",
    "    .getOrCreate()"
   ]
  },
  {
   "cell_type": "code",
   "execution_count": 45,
   "metadata": {},
   "outputs": [],
   "source": [
    "spark.conf.set(\"spark.sql.shuffle.partitions\", \"5\")"
   ]
  },
  {
   "cell_type": "code",
   "execution_count": 46,
   "metadata": {},
   "outputs": [],
   "source": [
    "staticDataFrame = spark.read.format('csv')\\\n",
    "    .option(\"header\", \"true\")\\\n",
    "    .option(\"inferSchema\", \"true\")\\\n",
    "    .load(\"../../data/retail-data/by-day/*.csv\")"
   ]
  },
  {
   "cell_type": "code",
   "execution_count": 47,
   "metadata": {},
   "outputs": [],
   "source": [
    "staticDataFrame.registerTempTable(\"retail_data\")\n",
    "staticSchema = staticDataFrame.schema"
   ]
  },
  {
   "cell_type": "code",
   "execution_count": 48,
   "metadata": {},
   "outputs": [],
   "source": [
    "best_customer_df = staticDataFrame\\\n",
    "    .withColumn(\"TOTAL\", F.col(\"UnitPrice\") * F.col(\"Quantity\"))\\\n",
    "    .groupBy(\"CustomerID\")\\\n",
    "    .mean(\"TOTAL\")\\\n",
    "    .withColumnRenamed(\"avg(TOTAL)\", \"AvgSpending\")\\\n",
    "    .orderBy(F.desc(\"AvgSpending\"))\\\n",
    "    .select(\"CustomerID\")\\\n",
    "    .limit(5)\n",
    "best_customers = [customer[0] for customer in best_customer_df.collect()]"
   ]
  },
  {
   "cell_type": "code",
   "execution_count": 49,
   "metadata": {},
   "outputs": [
    {
     "data": {
      "text/plain": [
       "[15195.0, 13135.0, 17846.0, 16532.0, 15749.0]"
      ]
     },
     "execution_count": 49,
     "metadata": {},
     "output_type": "execute_result"
    }
   ],
   "source": [
    "best_customers"
   ]
  },
  {
   "cell_type": "code",
   "execution_count": 50,
   "metadata": {},
   "outputs": [
    {
     "name": "stdout",
     "output_type": "stream",
     "text": [
      "+----------+--------------------+------------------+\n",
      "|CustomerId|              window|   sum(total_cost)|\n",
      "+----------+--------------------+------------------+\n",
      "|   14075.0|[2011-12-05 00:00...|316.78000000000003|\n",
      "|   18180.0|[2011-12-05 00:00...|            310.73|\n",
      "|   15358.0|[2011-12-05 00:00...| 830.0600000000003|\n",
      "|   15392.0|[2011-12-05 00:00...|304.40999999999997|\n",
      "|   15290.0|[2011-12-05 00:00...|263.02000000000004|\n",
      "|   16811.0|[2011-12-05 00:00...|             232.3|\n",
      "|   12748.0|[2011-12-05 00:00...| 363.7899999999999|\n",
      "|   16500.0|[2011-12-05 00:00...| 52.74000000000001|\n",
      "|   16873.0|[2011-12-05 00:00...|1854.8300000000002|\n",
      "|   14060.0|[2011-12-05 00:00...|297.47999999999996|\n",
      "|   14649.0|[2011-12-05 00:00...| 513.9899999999998|\n",
      "|   16904.0|[2011-12-05 00:00...| 349.0200000000001|\n",
      "|   17857.0|[2011-12-05 00:00...|            2979.6|\n",
      "|   14083.0|[2011-12-05 00:00...| 446.5700000000001|\n",
      "|   14777.0|[2011-12-05 00:00...|             -2.95|\n",
      "|   16684.0|[2011-12-05 00:00...| 5401.979999999999|\n",
      "|   13685.0|[2011-12-05 00:00...|              5.48|\n",
      "|   15159.0|[2011-12-05 00:00...|           1730.84|\n",
      "|   18015.0|[2011-12-05 00:00...|            120.03|\n",
      "|   13305.0|[2011-12-05 00:00...|213.15999999999997|\n",
      "+----------+--------------------+------------------+\n",
      "only showing top 20 rows\n",
      "\n"
     ]
    }
   ],
   "source": [
    "staticDataFrame\\\n",
    "    .selectExpr(\"CustomerId\", \"(UnitPrice * Quantity) as total_cost\", \"InvoiceDate\")\\\n",
    "    .groupBy(F.col(\"CustomerId\"), F.window(F.col(\"InvoiceDate\"), \"1 day\"))\\\n",
    "    .sum(\"total_cost\")\\\n",
    "    .show()"
   ]
  },
  {
   "cell_type": "code",
   "execution_count": 51,
   "metadata": {},
   "outputs": [],
   "source": [
    "streaminDataFrame = spark.readStream\\\n",
    "    .schema(staticSchema)\\\n",
    "    .option(\"maxFilesPerTrigger\", 1)\\\n",
    "    .format(\"csv\")\\\n",
    "    .option(\"header\", \"true\")\\\n",
    "    .load(\"../../data/retail-data/by-day/*.csv\")"
   ]
  },
  {
   "cell_type": "code",
   "execution_count": 52,
   "metadata": {},
   "outputs": [
    {
     "data": {
      "text/plain": [
       "True"
      ]
     },
     "execution_count": 52,
     "metadata": {},
     "output_type": "execute_result"
    }
   ],
   "source": [
    "streaminDataFrame.isStreaming"
   ]
  },
  {
   "cell_type": "code",
   "execution_count": 53,
   "metadata": {},
   "outputs": [],
   "source": [
    "purchaseByCustomerPerHour = streaminDataFrame\\\n",
    "    .selectExpr(\n",
    "        \"CustomerId\",\n",
    "        \"(UnitPrice * Quantity) as total_cost\",\n",
    "        \"InvoiceDate\")\\\n",
    "    .groupBy(\n",
    "        F.col(\"CustomerId\"),\n",
    "        F.window(F.col(\"InvoiceDate\"), \"1 day\"))\\\n",
    "    .sum(\"total_cost\")"
   ]
  },
  {
   "cell_type": "code",
   "execution_count": 54,
   "metadata": {},
   "outputs": [
    {
     "data": {
      "text/plain": [
       "<pyspark.sql.streaming.StreamingQuery at 0x7f37b19d95b0>"
      ]
     },
     "execution_count": 54,
     "metadata": {},
     "output_type": "execute_result"
    }
   ],
   "source": [
    "purchaseByCustomerPerHour.writeStream\\\n",
    "    .format(\"memory\")\\\n",
    "    .queryName(\"customer_purchases\")\\\n",
    "    .outputMode(\"complete\")\\\n",
    "    .start()"
   ]
  },
  {
   "cell_type": "code",
   "execution_count": 66,
   "metadata": {},
   "outputs": [
    {
     "name": "stdout",
     "output_type": "stream",
     "text": [
      "+----------+--------------------+------------------+\n",
      "|CustomerId|              window|   sum(total_cost)|\n",
      "+----------+--------------------+------------------+\n",
      "|      null|[2011-03-29 00:00...| 33521.39999999998|\n",
      "|      null|[2010-12-21 00:00...|31347.479999999938|\n",
      "|   18102.0|[2010-12-07 00:00...|          25920.37|\n",
      "|      null|[2010-12-10 00:00...|25399.560000000012|\n",
      "|      null|[2010-12-17 00:00...|25371.769999999768|\n",
      "+----------+--------------------+------------------+\n",
      "only showing top 5 rows\n",
      "\n"
     ]
    }
   ],
   "source": [
    "spark.sql(\"\"\"\n",
    "SELECT *\n",
    "FROM customer_purchases\n",
    "ORDER BY `sum(total_cost)` DESC\n",
    "\"\"\")\\\n",
    "    .show(5)"
   ]
  },
  {
   "cell_type": "code",
   "execution_count": 65,
   "metadata": {},
   "outputs": [
    {
     "data": {
      "text/plain": [
       "True"
      ]
     },
     "execution_count": 65,
     "metadata": {},
     "output_type": "execute_result"
    }
   ],
   "source": [
    "streaminDataFrame.st"
   ]
  },
  {
   "cell_type": "code",
   "execution_count": null,
   "metadata": {},
   "outputs": [],
   "source": []
  }
 ],
 "metadata": {
  "kernelspec": {
   "display_name": "Python 3",
   "language": "python",
   "name": "python3"
  },
  "language_info": {
   "codemirror_mode": {
    "name": "ipython",
    "version": 3
   },
   "file_extension": ".py",
   "mimetype": "text/x-python",
   "name": "python",
   "nbconvert_exporter": "python",
   "pygments_lexer": "ipython3",
   "version": "3.8.5"
  }
 },
 "nbformat": 4,
 "nbformat_minor": 4
}
